{
 "cells": [
  {
   "cell_type": "markdown",
   "id": "377463eb-bc08-4f30-a9ce-e532b27e7cb4",
   "metadata": {},
   "source": [
    "# Task 6: Basic data cleaning and consistency checks|"
   ]
  },
  {
   "cell_type": "code",
   "execution_count": 3,
   "id": "74a53ea2-6bd3-47a7-a074-745331603bfd",
   "metadata": {},
   "outputs": [],
   "source": [
    "# Importing library\n",
    "\n",
    "import pandas as pd\n",
    "import os \n",
    "\n",
    "#creating path\n",
    "path=r'C:\\Users\\Olufemi\\Downloads\\CareerFoundry Data Analyics\\Exercise 6.1'\n",
    "\n",
    "# Import dataframes\n",
    "df_2015 = pd.read_csv(os.path.join(path, '6.1_csvs', '2015.csv'))\n",
    "df_2016 = pd.read_csv(os.path.join(path, '6.1_csvs', '2016.csv'))\n",
    "df_2017 = pd.read_csv(os.path.join(path, '6.1_csvs', '2017.csv'))\n",
    "df_2018 = pd.read_csv(os.path.join(path, '6.1_csvs', '2018.csv'))\n",
    "df_2019 = pd.read_csv(os.path.join(path, '6.1_csvs', '2019.csv'))"
   ]
  },
  {
   "cell_type": "code",
   "execution_count": 5,
   "id": "5a6538b1-ffbd-4196-970a-5aaa946e4001",
   "metadata": {},
   "outputs": [
    {
     "name": "stdout",
     "output_type": "stream",
     "text": [
      "2015 DataFrame Info\n",
      "<class 'pandas.core.frame.DataFrame'>\n",
      "RangeIndex: 158 entries, 0 to 157\n",
      "Data columns (total 12 columns):\n",
      " #   Column                         Non-Null Count  Dtype  \n",
      "---  ------                         --------------  -----  \n",
      " 0   Country                        158 non-null    object \n",
      " 1   Region                         158 non-null    object \n",
      " 2   Happiness Rank                 158 non-null    int64  \n",
      " 3   Happiness Score                158 non-null    float64\n",
      " 4   Standard Error                 158 non-null    float64\n",
      " 5   Economy (GDP per Capita)       158 non-null    float64\n",
      " 6   Family                         158 non-null    float64\n",
      " 7   Health (Life Expectancy)       158 non-null    float64\n",
      " 8   Freedom                        158 non-null    float64\n",
      " 9   Trust (Government Corruption)  158 non-null    float64\n",
      " 10  Generosity                     158 non-null    float64\n",
      " 11  Dystopia Residual              158 non-null    float64\n",
      "dtypes: float64(9), int64(1), object(2)\n",
      "memory usage: 14.9+ KB\n",
      "\n",
      "2016 DataFrame Info\n",
      "<class 'pandas.core.frame.DataFrame'>\n",
      "RangeIndex: 157 entries, 0 to 156\n",
      "Data columns (total 13 columns):\n",
      " #   Column                         Non-Null Count  Dtype  \n",
      "---  ------                         --------------  -----  \n",
      " 0   Country                        157 non-null    object \n",
      " 1   Region                         157 non-null    object \n",
      " 2   Happiness Rank                 157 non-null    int64  \n",
      " 3   Happiness Score                157 non-null    float64\n",
      " 4   Lower Confidence Interval      157 non-null    float64\n",
      " 5   Upper Confidence Interval      157 non-null    float64\n",
      " 6   Economy (GDP per Capita)       157 non-null    float64\n",
      " 7   Family                         157 non-null    float64\n",
      " 8   Health (Life Expectancy)       157 non-null    float64\n",
      " 9   Freedom                        157 non-null    float64\n",
      " 10  Trust (Government Corruption)  157 non-null    float64\n",
      " 11  Generosity                     157 non-null    float64\n",
      " 12  Dystopia Residual              157 non-null    float64\n",
      "dtypes: float64(10), int64(1), object(2)\n",
      "memory usage: 16.1+ KB\n",
      "\n",
      "2017 DataFrame Info\n",
      "<class 'pandas.core.frame.DataFrame'>\n",
      "RangeIndex: 155 entries, 0 to 154\n",
      "Data columns (total 12 columns):\n",
      " #   Column                         Non-Null Count  Dtype  \n",
      "---  ------                         --------------  -----  \n",
      " 0   Country                        155 non-null    object \n",
      " 1   Happiness.Rank                 155 non-null    int64  \n",
      " 2   Happiness.Score                155 non-null    float64\n",
      " 3   Whisker.high                   155 non-null    float64\n",
      " 4   Whisker.low                    155 non-null    float64\n",
      " 5   Economy..GDP.per.Capita.       155 non-null    float64\n",
      " 6   Family                         155 non-null    float64\n",
      " 7   Health..Life.Expectancy.       155 non-null    float64\n",
      " 8   Freedom                        155 non-null    float64\n",
      " 9   Generosity                     155 non-null    float64\n",
      " 10  Trust..Government.Corruption.  155 non-null    float64\n",
      " 11  Dystopia.Residual              155 non-null    float64\n",
      "dtypes: float64(10), int64(1), object(1)\n",
      "memory usage: 14.7+ KB\n",
      "\n",
      "2018 DataFrame Info\n",
      "<class 'pandas.core.frame.DataFrame'>\n",
      "RangeIndex: 156 entries, 0 to 155\n",
      "Data columns (total 9 columns):\n",
      " #   Column                        Non-Null Count  Dtype  \n",
      "---  ------                        --------------  -----  \n",
      " 0   Overall rank                  156 non-null    int64  \n",
      " 1   Country or region             156 non-null    object \n",
      " 2   Score                         156 non-null    float64\n",
      " 3   GDP per capita                156 non-null    float64\n",
      " 4   Social support                156 non-null    float64\n",
      " 5   Healthy life expectancy       156 non-null    float64\n",
      " 6   Freedom to make life choices  156 non-null    float64\n",
      " 7   Generosity                    156 non-null    float64\n",
      " 8   Perceptions of corruption     155 non-null    float64\n",
      "dtypes: float64(7), int64(1), object(1)\n",
      "memory usage: 11.1+ KB\n",
      "\n",
      "2019 DataFrame Info\n",
      "<class 'pandas.core.frame.DataFrame'>\n",
      "RangeIndex: 156 entries, 0 to 155\n",
      "Data columns (total 9 columns):\n",
      " #   Column                        Non-Null Count  Dtype  \n",
      "---  ------                        --------------  -----  \n",
      " 0   Overall rank                  156 non-null    int64  \n",
      " 1   Country or region             156 non-null    object \n",
      " 2   Score                         156 non-null    float64\n",
      " 3   GDP per capita                156 non-null    float64\n",
      " 4   Social support                156 non-null    float64\n",
      " 5   Healthy life expectancy       156 non-null    float64\n",
      " 6   Freedom to make life choices  156 non-null    float64\n",
      " 7   Generosity                    156 non-null    float64\n",
      " 8   Perceptions of corruption     156 non-null    float64\n",
      "dtypes: float64(7), int64(1), object(1)\n",
      "memory usage: 11.1+ KB\n"
     ]
    }
   ],
   "source": [
    "# Check structure and data types\n",
    "\n",
    "print(\"2015 DataFrame Info\")\n",
    "df_2015.info()\n",
    "\n",
    "print(\"\\n2016 DataFrame Info\")\n",
    "df_2016.info()\n",
    "\n",
    "print(\"\\n2017 DataFrame Info\")\n",
    "df_2017.info()\n",
    "\n",
    "print(\"\\n2018 DataFrame Info\")\n",
    "df_2018.info()\n",
    "\n",
    "print(\"\\n2019 DataFrame Info\")\n",
    "df_2019.info()"
   ]
  },
  {
   "cell_type": "code",
   "execution_count": 7,
   "id": "b2786783-64b5-409e-8631-b35b0af82fc9",
   "metadata": {},
   "outputs": [],
   "source": [
    "# Defines a dictionary dfs that maps each year (2015–2019) to its corresponding pandas DataFrame.\n",
    "\n",
    "dfs = {\n",
    "    \"2015\": df_2015,\n",
    "    \"2016\": df_2016,\n",
    "    \"2017\": df_2017,\n",
    "    \"2018\": df_2018,\n",
    "    \"2019\": df_2019\n",
    "}"
   ]
  },
  {
   "cell_type": "code",
   "execution_count": 9,
   "id": "639ce9ec-a6b1-4dd1-bae1-5ebd6892ec82",
   "metadata": {},
   "outputs": [],
   "source": [
    "# Define Standard column mapping\n",
    "\n",
    "standard_columns = {\n",
    "    \"Country\": \"Country\",\n",
    "    \"Country or region\": \"Country\",\n",
    "    \"Region\": \"Region\",\n",
    "    \"Happiness Rank\": \"Rank\",\n",
    "    \"Happiness.Rank\": \"Rank\",\n",
    "    \"Overall rank\": \"Rank\",\n",
    "    \"Happiness Score\": \"Score\",\n",
    "    \"Happiness.Score\": \"Score\",\n",
    "    \"Score\": \"Score\",\n",
    "    \"Economy (GDP per Capita)\": \"GDP per capita\",\n",
    "    \"Economy..GDP.per.Capita.\": \"GDP per capita\",\n",
    "    \"GDP per capita\": \"GDP per capita\",\n",
    "    \"Family\": \"Social support\",\n",
    "    \"Social support\": \"Social support\",\n",
    "    \"Health (Life Expectancy)\": \"Healthy life expectancy\",\n",
    "    \"Health..Life.Expectancy.\": \"Healthy life expectancy\",\n",
    "    \"Healthy life expectancy\": \"Healthy life expectancy\",\n",
    "    \"Freedom\": \"Freedom\",\n",
    "    \"Freedom to make life choices\": \"Freedom\",\n",
    "    \"Trust (Government Corruption)\": \"Trust\",\n",
    "    \"Trust..Government.Corruption.\": \"Trust\",\n",
    "    \"Perceptions of corruption\": \"Trust\",\n",
    "    \"Generosity\": \"Generosity\",\n",
    "    \"Dystopia Residual\": \"Dystopia Residual\"\n",
    "}"
   ]
  },
  {
   "cell_type": "code",
   "execution_count": 11,
   "id": "6946c6e9-5cd7-4e72-9b44-1899e63b2439",
   "metadata": {},
   "outputs": [],
   "source": [
    "# Define the final column list with Region and Income Group\n",
    "final_columns = [\"Country\", \"Region\", \"Income Group\", \"Year\", \"Rank\", \"Score\", \"GDP per capita\",\n",
    "                 \"Social support\", \"Healthy life expectancy\", \"Freedom\", \"Trust\", \"Generosity\", \"Dystopia Residual\"]"
   ]
  },
  {
   "cell_type": "code",
   "execution_count": 13,
   "id": "5c4f6088-71c9-4517-ac31-abf066764731",
   "metadata": {},
   "outputs": [],
   "source": [
    "# Build region mapping from 2015 and 2016 into all DataFrames:\n",
    "region_mapping = pd.concat([\n",
    "    df_2015[[\"Country\", \"Region\"]],\n",
    "    df_2016[[\"Country\", \"Region\"]]\n",
    "]).drop_duplicates().set_index(\"Country\")[\"Region\"].to_dict()"
   ]
  },
  {
   "cell_type": "code",
   "execution_count": 15,
   "id": "362fffb3-30d5-4521-a67d-a464cc0b806f",
   "metadata": {},
   "outputs": [],
   "source": [
    "# Load the World Bank income group classification file\n",
    "income_df = pd.read_csv(os.path.join(path, '6.1_csvs', 'world_bank_income_groups.csv'))\n",
    "income_mapping = income_df.set_index(\"Country Name\")[\"IncomeGroup\"].to_dict()"
   ]
  },
  {
   "cell_type": "code",
   "execution_count": 17,
   "id": "a7bb4a22-a791-4e1c-884c-3a862a558956",
   "metadata": {},
   "outputs": [],
   "source": [
    "# Clean and process each dataset\n",
    "cleaned_dfs = []\n",
    "\n",
    "for year, df in dfs.items():\n",
    "    # Rename columns to standard form\n",
    "    df_renamed = df.rename(columns={col: standard_columns[col] for col in df.columns if col in standard_columns})\n",
    "    \n",
    "    # Add missing columns as NaN\n",
    "    for col in final_columns:\n",
    "        if col not in df_renamed.columns:\n",
    "            df_renamed[col] = pd.NA\n",
    "\n",
    "    # Add Year\n",
    "    df_renamed[\"Year\"] = int(year)\n",
    "\n",
    "    # Fill in Region if missing\n",
    "    if \"Region\" not in df.columns:\n",
    "        df_renamed[\"Region\"] = df_renamed[\"Country\"].map(region_mapping)\n",
    "\n",
    "    # Fill in Income Group\n",
    "    df_renamed[\"Income Group\"] = df_renamed[\"Country\"].map(income_mapping)\n",
    "\n",
    "    # Reorder columns\n",
    "    df_final = df_renamed[final_columns]\n",
    "\n",
    "    # Append to final list\n",
    "    cleaned_dfs.append(df_final)"
   ]
  },
  {
   "cell_type": "code",
   "execution_count": 19,
   "id": "1c97d13b-8e0a-4ef7-9a16-3cce056780f5",
   "metadata": {},
   "outputs": [
    {
     "name": "stderr",
     "output_type": "stream",
     "text": [
      "C:\\Users\\Olufemi\\AppData\\Local\\Temp\\ipykernel_22700\\2358127122.py:2: FutureWarning: The behavior of DataFrame concatenation with empty or all-NA entries is deprecated. In a future version, this will no longer exclude empty or all-NA columns when determining the result dtypes. To retain the old behavior, exclude the relevant entries before the concat operation.\n",
      "  merged_df = pd.concat(cleaned_dfs, ignore_index=True)\n"
     ]
    }
   ],
   "source": [
    "# Concatenate all years\n",
    "merged_df = pd.concat(cleaned_dfs, ignore_index=True)"
   ]
  },
  {
   "cell_type": "code",
   "execution_count": 21,
   "id": "e4d907fc-8b0a-44f6-ad65-88ee75869b44",
   "metadata": {},
   "outputs": [],
   "source": [
    "# Drop the Dystopia Residual column because it is totally irrelevant to the analysis\n",
    "\n",
    "merged_df.drop(columns=[\"Dystopia Residual\"], inplace=True)"
   ]
  },
  {
   "cell_type": "code",
   "execution_count": 23,
   "id": "72d8a835-ca9b-4372-b8d6-26929f753f4d",
   "metadata": {},
   "outputs": [],
   "source": [
    "# Save concatenated file to CSV\n",
    "merged_df.to_csv(os.path.join(path, '6.1_csvs', 'Global_Happiness_2015_2019_Cleaned.csv'), index=False)"
   ]
  },
  {
   "cell_type": "code",
   "execution_count": 25,
   "id": "96898855-b7d5-4768-acc3-6882682a715e",
   "metadata": {},
   "outputs": [
    {
     "name": "stdout",
     "output_type": "stream",
     "text": [
      "       Country          Region Income Group  Year  Rank  Score  \\\n",
      "0  Switzerland  Western Europe  High income  2015     1  7.587   \n",
      "1      Iceland  Western Europe  High income  2015     2  7.561   \n",
      "2      Denmark  Western Europe  High income  2015     3  7.527   \n",
      "3       Norway  Western Europe  High income  2015     4  7.522   \n",
      "4       Canada   North America  High income  2015     5  7.427   \n",
      "\n",
      "   GDP per capita  Social support  Healthy life expectancy  Freedom    Trust  \\\n",
      "0         1.39651         1.34951                  0.94143  0.66557  0.41978   \n",
      "1         1.30232         1.40223                  0.94784  0.62877  0.14145   \n",
      "2         1.32548         1.36058                  0.87464  0.64938  0.48357   \n",
      "3         1.45900         1.33095                  0.88521  0.66973  0.36503   \n",
      "4         1.32629         1.32261                  0.90563  0.63297  0.32957   \n",
      "\n",
      "   Generosity  \n",
      "0     0.29678  \n",
      "1     0.43630  \n",
      "2     0.34139  \n",
      "3     0.34699  \n",
      "4     0.45811  \n"
     ]
    }
   ],
   "source": [
    "# Print output\n",
    "print(merged_df.head())"
   ]
  },
  {
   "cell_type": "code",
   "execution_count": 27,
   "id": "b1a7fa6e-cdba-4496-a377-56e3764152e5",
   "metadata": {},
   "outputs": [
    {
     "name": "stdout",
     "output_type": "stream",
     "text": [
      "<class 'pandas.core.frame.DataFrame'>\n",
      "RangeIndex: 782 entries, 0 to 781\n",
      "Data columns (total 12 columns):\n",
      " #   Column                   Non-Null Count  Dtype  \n",
      "---  ------                   --------------  -----  \n",
      " 0   Country                  782 non-null    object \n",
      " 1   Region                   774 non-null    object \n",
      " 2   Income Group             677 non-null    object \n",
      " 3   Year                     782 non-null    int64  \n",
      " 4   Rank                     782 non-null    int64  \n",
      " 5   Score                    782 non-null    float64\n",
      " 6   GDP per capita           782 non-null    float64\n",
      " 7   Social support           782 non-null    float64\n",
      " 8   Healthy life expectancy  782 non-null    float64\n",
      " 9   Freedom                  782 non-null    float64\n",
      " 10  Trust                    781 non-null    float64\n",
      " 11  Generosity               782 non-null    float64\n",
      "dtypes: float64(7), int64(2), object(3)\n",
      "memory usage: 73.4+ KB\n",
      "None\n"
     ]
    }
   ],
   "source": [
    "print(merged_df.info())"
   ]
  },
  {
   "cell_type": "code",
   "execution_count": 31,
   "id": "2841cd1d-146d-49b7-bac7-6f2f02519841",
   "metadata": {},
   "outputs": [
    {
     "name": "stdout",
     "output_type": "stream",
     "text": [
      "Number of duplicate rows: 0\n"
     ]
    }
   ],
   "source": [
    "# Check for any exact duplicate rows\n",
    "duplicates = merged_df[merged_df.duplicated()]\n",
    "print(f\"Number of duplicate rows: {duplicates.shape[0]}\")"
   ]
  },
  {
   "cell_type": "code",
   "execution_count": 33,
   "id": "d250fac6-da01-4c2d-af5f-d5fdf8762f38",
   "metadata": {},
   "outputs": [
    {
     "name": "stdout",
     "output_type": "stream",
     "text": [
      "              Year        Rank       Score  GDP per capita  Social support  \\\n",
      "count   782.000000  782.000000  782.000000      782.000000      782.000000   \n",
      "mean   2016.993606   78.698210    5.379018        0.916047        1.078392   \n",
      "std       1.417364   45.182384    1.127456        0.407340        0.329548   \n",
      "min    2015.000000    1.000000    2.693000        0.000000        0.000000   \n",
      "25%    2016.000000   40.000000    4.509750        0.606500        0.869363   \n",
      "50%    2017.000000   79.000000    5.322000        0.982205        1.124735   \n",
      "75%    2018.000000  118.000000    6.189500        1.236187        1.327250   \n",
      "max    2019.000000  158.000000    7.769000        2.096000        1.644000   \n",
      "\n",
      "       Healthy life expectancy     Freedom       Trust  Generosity  \n",
      "count               782.000000  782.000000  781.000000  782.000000  \n",
      "mean                  0.612416    0.411091    0.125436    0.218576  \n",
      "std                   0.248309    0.152880    0.105816    0.122321  \n",
      "min                   0.000000    0.000000    0.000000    0.000000  \n",
      "25%                   0.440183    0.309768    0.054000    0.130000  \n",
      "50%                   0.647310    0.431000    0.091000    0.201982  \n",
      "75%                   0.808000    0.531000    0.156030    0.278832  \n",
      "max                   1.141000    0.724000    0.551910    0.838075  \n"
     ]
    }
   ],
   "source": [
    "# Descriptive statistical summary for numerical columns\n",
    "print(merged_df.describe())"
   ]
  },
  {
   "cell_type": "code",
   "execution_count": null,
   "id": "33ca72c7-2535-41d3-98b9-79a9c5061097",
   "metadata": {},
   "outputs": [],
   "source": []
  }
 ],
 "metadata": {
  "kernelspec": {
   "display_name": "Python [conda env:base] *",
   "language": "python",
   "name": "conda-base-py"
  },
  "language_info": {
   "codemirror_mode": {
    "name": "ipython",
    "version": 3
   },
   "file_extension": ".py",
   "mimetype": "text/x-python",
   "name": "python",
   "nbconvert_exporter": "python",
   "pygments_lexer": "ipython3",
   "version": "3.12.7"
  }
 },
 "nbformat": 4,
 "nbformat_minor": 5
}
